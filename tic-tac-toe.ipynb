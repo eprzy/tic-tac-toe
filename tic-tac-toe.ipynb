{
 "cells": [
  {
   "cell_type": "code",
   "execution_count": 1,
   "metadata": {
    "collapsed": true
   },
   "outputs": [],
   "source": [
    "from IPython.display import clear_output"
   ]
  },
  {
   "cell_type": "code",
   "execution_count": 2,
   "metadata": {
    "collapsed": true
   },
   "outputs": [],
   "source": [
    "def display_board(board):\n",
    "    # Clear current cell output\n",
    "    clear_output()\n",
    "    # Print board\n",
    "    print \"  \"+board[7]+\" |\"+board[8]+\" | \"+board[9]+\" \"\n",
    "    print \"------------\"\n",
    "    print \"  \"+board[4]+\" |\"+board[5]+\" | \"+board[6]+\" \"\n",
    "    print \"------------\"\n",
    "    print \"  \"+board[1]+\" |\"+board[2]+\" | \"+board[3]+\" \""
   ]
  },
  {
   "cell_type": "code",
   "execution_count": 3,
   "metadata": {
    "collapsed": true
   },
   "outputs": [],
   "source": [
    "def has_player_won(board, player):\n",
    "    ''' Check Horizontals,Verticals, and Diagonals for a win '''\n",
    "    return (board[7]  ==  board[8] ==  board[9] == player) or \\\n",
    "        (board[4] ==  board[5] ==  board[6] == player) or \\\n",
    "        (board[1] ==  board[2] ==  board[3] == player) or \\\n",
    "        (board[7] ==  board[4] ==  board[1] == player) or \\\n",
    "        (board[8] ==  board[5] ==  board[2] == player) or \\\n",
    "        (board[9] ==  board[6] ==  board[3] == player) or \\\n",
    "        (board[1] ==  board[5] ==  board[9] == player) or \\\n",
    "        (board[3] ==  board[5] ==  board[7] == player)"
   ]
  },
  {
   "cell_type": "code",
   "execution_count": 4,
   "metadata": {
    "collapsed": true
   },
   "outputs": [],
   "source": [
    "def is_tie(board):\n",
    "    return \" \" not in board[1:]"
   ]
  },
  {
   "cell_type": "code",
   "execution_count": 5,
   "metadata": {
    "collapsed": true
   },
   "outputs": [],
   "source": [
    "def place_mark(board, mark):\n",
    "    ''' Asks player where to place X or O mark, checks validity '''\n",
    "    \n",
    "    req = 'Choose where to place your: ' + mark\n",
    "    \n",
    "    empty_choice = False\n",
    "    while not empty_choice:\n",
    "        try:\n",
    "            choice = int(raw_input(req))\n",
    "            \n",
    "            if choice not in range(1, 10):\n",
    "                print(\"Sorry, please input a number between 1-9.\")\n",
    "            elif board[choice] == \" \":\n",
    "                board[choice] = mark\n",
    "                empty_choice = True\n",
    "            else:\n",
    "                print \"That space isn't empty!\"\n",
    "                \n",
    "        except ValueError:\n",
    "            print(\"Sorry, please input a number between 1-9.\")"
   ]
  },
  {
   "cell_type": "code",
   "execution_count": 6,
   "metadata": {
    "collapsed": true
   },
   "outputs": [],
   "source": [
    "def do_turn(game, mark):\n",
    "    #Set game blank game announcement\n",
    "    game[\"announce\"] = ''\n",
    "    #Get Player Input\n",
    "    mark = str(mark)\n",
    "    # Validate input\n",
    "    place_mark(game[\"board\"], mark)\n",
    "\n",
    "    #Check for player win\n",
    "    if has_player_won(game[\"board\"],mark):\n",
    "        game[\"announce\"] = mark +\" wins! Congratulations\"\n",
    "        game[\"running\"] = False\n",
    "        \n",
    "    #Check for a tie         \n",
    "    elif is_tie(game[\"board\"]):\n",
    "        game[\"announce\"] = \"Tie!\"\n",
    "        game[\"running\"] = False\n",
    "        \n",
    "    #Show board\n",
    "    display_board(game[\"board\"])"
   ]
  },
  {
   "cell_type": "code",
   "execution_count": 7,
   "metadata": {
    "collapsed": true
   },
   "outputs": [],
   "source": [
    "def play_game():\n",
    "    game = { \"board\": [' '] * 10, \"running\": True, \"announce\": \"\" }\n",
    "    \n",
    "    # Set marks\n",
    "    X='X'\n",
    "    O='O'\n",
    "    while game[\"running\"]:\n",
    "        # Show board\n",
    "        display_board(game[\"board\"])\n",
    "        \n",
    "        # Player X turn\n",
    "        do_turn(game, X)\n",
    "        print game[\"announce\"]\n",
    "            \n",
    "        # Player O turn\n",
    "        if game[\"running\"]:\n",
    "            do_turn(game, O)\n",
    "            print game[\"announce\"]\n",
    "    \n",
    "    # Ask player for a rematch\n",
    "    rematch = raw_input('Would you like to play again? y/n')\n",
    "    if rematch == 'y':\n",
    "        play_game()\n",
    "    else:\n",
    "        print \"Thanks for playing!\"\n",
    "        "
   ]
  },
  {
   "cell_type": "code",
   "execution_count": 8,
   "metadata": {
    "scrolled": true
   },
   "outputs": [
    {
     "name": "stdout",
     "output_type": "stream",
     "text": [
      "  O |X | O \n",
      "------------\n",
      "  X |O | X \n",
      "------------\n",
      "  X |O | X \n",
      "Tie!\n",
      "Would you like to play again? y/nn\n",
      "Thanks for playing!\n"
     ]
    }
   ],
   "source": [
    "play_game()"
   ]
  }
 ],
 "metadata": {
  "kernelspec": {
   "display_name": "Python 2",
   "language": "python",
   "name": "python2"
  },
  "language_info": {
   "codemirror_mode": {
    "name": "ipython",
    "version": 2
   },
   "file_extension": ".py",
   "mimetype": "text/x-python",
   "name": "python",
   "nbconvert_exporter": "python",
   "pygments_lexer": "ipython2",
   "version": "2.7.14"
  }
 },
 "nbformat": 4,
 "nbformat_minor": 2
}
